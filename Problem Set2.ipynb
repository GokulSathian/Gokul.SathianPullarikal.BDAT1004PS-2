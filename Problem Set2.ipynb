{
 "cells": [
  {
   "cell_type": "markdown",
   "id": "abd46367",
   "metadata": {},
   "source": [
    "# Problem Set2"
   ]
  },
  {
   "cell_type": "markdown",
   "id": "5fba3926",
   "metadata": {},
   "source": [
    "### Question 1 \n",
    "Consider the following Python module:\n",
    "<br>\n",
    "a = 0\n",
    "<br>\n",
    "def b():\n",
    "<br>\n",
    "global a\n",
    "<br>\n",
    "a = c(a)\n",
    "<br>\n",
    "def c(a):\n",
    "<br>\n",
    "return a + 2\n",
    "\n",
    "b()\n",
    "<br>\n",
    "b()\n",
    "<br>\n",
    "b()\n",
    "<br>\n",
    "a\n",
    "<br>\n",
    "?"
   ]
  },
  {
   "cell_type": "markdown",
   "id": "1a15fc62",
   "metadata": {},
   "source": [
    "#### What value is displayed when the last expression (a) is evaluated? Explain your answer by indicating what happens in every executed statement."
   ]
  },
  {
   "cell_type": "code",
   "execution_count": 1,
   "id": "4b56afc5",
   "metadata": {},
   "outputs": [
    {
     "data": {
      "text/plain": [
       "6"
      ]
     },
     "execution_count": 1,
     "metadata": {},
     "output_type": "execute_result"
    }
   ],
   "source": [
    "a = 0\n",
    "def b():\n",
    " global a    \n",
    " a = c(a)   \n",
    "def c(a):\n",
    " return a + 2\n",
    "b()\n",
    "b()\n",
    "b()\n",
    "a "
   ]
  },
  {
   "cell_type": "markdown",
   "id": "490bf551",
   "metadata": {},
   "source": [
    "#### Explanation:\n",
    "\n",
    "First call\n",
    "b(): a's value is 0 it calls the function c(a)\n",
    "<br>so as c(a)=a+2 then a=0+2=2, now global a's value gets changed to 2 \n",
    "<br>\n",
    "Second call\n",
    "b(): a's value is 2 again calls c(a)\n",
    "<br>now a= 2+2=4, now global a's value gets updated to 4\n",
    "<br>\n",
    "Third call\n",
    "<br>b()\n",
    "Similarly (a)=a+2, then a = 4+2=6  global a's value gets changed to 6\n",
    "<br>\n",
    "Hence Final value after 3 call a value = 6"
   ]
  },
  {
   "cell_type": "markdown",
   "id": "2a3e5b6a",
   "metadata": {},
   "source": [
    "### Question 2\n",
    "Function fileLength(), given to you, takes the name of a file as input and returns\n",
    "the length of the file:\n",
    "<br>\n",
    "fileLength('midterm.py')\n",
    "<br>\n",
    "284\n",
    "<br>\n",
    "fileLength('idterm.py')\n",
    "<br>\n",
    "Traceback (most recent call last):\n",
    "<br>\n",
    "File \"<pyshell#34>\", line 1, in <module>\n",
    "<br>\n",
    "fileLength('idterm.py')\n",
    "<br>\n",
    "File \"/Users/me/midterm.py\", line 3, in fileLength\n",
    " <br>\n",
    "infile = open(filename)\n",
    " <br>\n",
    "FileNotFoundError: [Errno 2] No such file or directory:\n",
    " <br>\n",
    "'idterm.py'\n",
    " <br>\n",
    "    \n",
    "As shown above, if the file cannot be found by the interpreter or if it cannot be read\n",
    "as a text file, an exception will be raised. Modify function fileLength() so that a\n",
    "friendly message is printed instead:\n",
    "    <br>\n",
    "    \n",
    "fileLength('midterm.py')\n",
    "    <br>\n",
    "358\n",
    "    <br>\n",
    "fileLength('idterm.py')\n",
    "    <br>\n",
    "File idterm.py not found."
   ]
  },
  {
   "cell_type": "code",
   "execution_count": 71,
   "id": "9f9f0755",
   "metadata": {},
   "outputs": [],
   "source": [
    "def fileLength(fileName):\n",
    "    try:                                           \n",
    "        open_file=open(fileName)\n",
    "        file_data=open_file.read()\n",
    "        length=len(file_data)\n",
    "        open_file.close()\n",
    "        return length\n",
    "    except IOError:                                  \n",
    "        print('File ' + fileName + ' not found.') "
   ]
  },
  {
   "cell_type": "code",
   "execution_count": 72,
   "id": "cf8479f3",
   "metadata": {},
   "outputs": [
    {
     "data": {
      "text/plain": [
       "123"
      ]
     },
     "execution_count": 72,
     "metadata": {},
     "output_type": "execute_result"
    }
   ],
   "source": [
    "fileLength(\"Filelength.txt\")"
   ]
  },
  {
   "cell_type": "code",
   "execution_count": 73,
   "id": "a80ac4de",
   "metadata": {},
   "outputs": [
    {
     "name": "stdout",
     "output_type": "stream",
     "text": [
      "File idterm.py not found.\n"
     ]
    }
   ],
   "source": [
    "fileLength(\"idterm.py\")"
   ]
  },
  {
   "cell_type": "markdown",
   "id": "64caabb6",
   "metadata": {},
   "source": [
    "### Question 3\n",
    "Write a class named Marsupial that can be used as shown below:\n",
    "<br>\n",
    "m = Marsupial()\n",
    "<br>\n",
    "m.put_in_pouch('doll')\n",
    "<br>\n",
    "m.put_in_pouch('firetruck')\n",
    "<br>\n",
    "\n",
    "m.put_in_pouch('kitten')\n",
    "<br>\n",
    "\n",
    "m.pouch_contents()\n",
    "<br>\n",
    "\n",
    "['doll', 'firetruck', 'kitten']"
   ]
  },
  {
   "cell_type": "code",
   "execution_count": 57,
   "id": "ab5df0e9",
   "metadata": {},
   "outputs": [
    {
     "data": {
      "text/plain": [
       "['doll', 'firetruck', 'kitten']"
      ]
     },
     "execution_count": 57,
     "metadata": {},
     "output_type": "execute_result"
    }
   ],
   "source": [
    "class Marsupial:\n",
    "    def __init__(self):\n",
    "        self.myList = []\n",
    "        \n",
    "    def put_in_pouch(self,item):       \n",
    "        self.myList.append(item)\n",
    "        \n",
    "    def pouch_contents(self):          \n",
    "        return self.myList\n",
    "\n",
    "m = Marsupial()\n",
    "m.put_in_pouch('doll')\n",
    "m.put_in_pouch('firetruck')\n",
    "m.put_in_pouch('kitten')\n",
    "m.pouch_contents()"
   ]
  },
  {
   "cell_type": "markdown",
   "id": "1e35926b",
   "metadata": {},
   "source": [
    "Now write a class named Kangaroo as a subclass of Marsupial that inherits all the\n",
    "attributes of Marsupial and also:\n",
    "<br>\n",
    "\n",
    "a. extends the Marsupial __init__ constructor to take, as input, the\n",
    "coordinates x and y of the Kangaroo object,\n",
    "<br>\n",
    "\n",
    "b. supports method jump that takes number values dx and dy as input and\n",
    "movesthe kangaroo by dx units along the x-axis and by dy units along the yaxis, and\n",
    "<br>\n",
    "\n",
    "c. overloads the __str__ operator so it behaves as shown below.\n",
    "<br>\n",
    "\n",
    "k = Kangaroo(0,0)\n",
    "<br>\n",
    "\n",
    "print(k)\n",
    "<br>\n",
    "I am a Kangaroo located at coordinates (0,0)\n",
    "<br>\n",
    "k.put_in_pouch('doll')\n",
    "<br>\n",
    " k.put_in_pouch('firetruck')\n",
    "<br>\n",
    " k.put_in_pouch('kitten')\n",
    "<br>\n",
    "k.pouch_contents()\n",
    "['doll', 'firetruck', 'kitten']\n",
    "<br>\n",
    " k.jump(1,0)\n",
    "<br>\n",
    "k.jump(1,0)\n",
    "<br>\n",
    "k.jump(1,0)\n",
    "<br>\n",
    "print(k)\n",
    "<br>\n",
    "\n",
    "I am a Kangaroo located at coordinates (3,0)"
   ]
  },
  {
   "cell_type": "code",
   "execution_count": 58,
   "id": "d4fbfae6",
   "metadata": {},
   "outputs": [
    {
     "name": "stdout",
     "output_type": "stream",
     "text": [
      "I am a Kangaroo located at co-ordinates (0,0)\n",
      "['doll', 'firetruck', 'kitten']\n",
      "I am a Kangaroo located at co-ordinates (3,0)\n"
     ]
    }
   ],
   "source": [
    "class Kangaroo(Marsupial):\n",
    "    def __init__(self,x,y):        \n",
    "        Marsupial.__init__(self)\n",
    "        self.x = x\n",
    "        self.y = y\n",
    "        \n",
    "    def jump(self,dx,dy):          \n",
    "        self.x += dx\n",
    "        self.y += dy\n",
    "        \n",
    "    def __str__(self):            \n",
    "        return 'I am a Kangaroo located at co-ordinates ({},{})'.format(self.x,self.y)\n",
    "k = Kangaroo(0,0)\n",
    "\n",
    "print(k)\n",
    "k.put_in_pouch('doll')\n",
    "k.put_in_pouch('firetruck')\n",
    "k.put_in_pouch('kitten')\n",
    "print(k.pouch_contents())\n",
    "k.jump(1,0)\n",
    "k.jump(1,0)\n",
    "k.jump(1,0)\n",
    "print(k)"
   ]
  },
  {
   "cell_type": "markdown",
   "id": "8eecf26a",
   "metadata": {},
   "source": [
    "### Question 4\n",
    "Write function collatz() that takes a positive integer x as input and prints the\n",
    "Collatz sequence starting at x. A Collatz sequence is obtained by repeatedly applying\n",
    "this rule to the previous number x in the sequence:\n",
    "<br>\n",
    "x = {\n",
    "𝑥/2 𝑖𝑓 𝑥 𝑖𝑠 𝑒𝑣𝑒𝑛3𝑥\n",
    "+1 𝑖𝑓 𝑥 𝑖𝑠 𝑜𝑑𝑑\n",
    "<br>\n",
    "\n",
    "Your function should stop when the sequence gets to number 1. Your\n",
    "implementation must be recursive, without any loops.\n",
    "<br>\n",
    "\n",
    "<br>\n",
    "collatz(1)\n",
    "<br>\n",
    "1\n",
    "<br>\n",
    " collatz(10)\n",
    "<br>\n",
    "10\n",
    "<br>\n",
    "5\n",
    "<br>\n",
    "16\n",
    "<br>\n",
    "8\n",
    "<br>\n",
    "4\n",
    "<br>\n",
    "2\n",
    "<br>\n",
    "1\n",
    "<br>\n"
   ]
  },
  {
   "cell_type": "code",
   "execution_count": 74,
   "id": "ad831961",
   "metadata": {},
   "outputs": [
    {
     "name": "stdout",
     "output_type": "stream",
     "text": [
      "collatz(1)\n",
      "1\n"
     ]
    }
   ],
   "source": [
    "def collatz(x):\n",
    "    if x == 1:               \n",
    "        return [x]\n",
    "    elif x%2==0:             \n",
    "        return [x] + collatz(int(x/2))\n",
    "    else:                    \n",
    "        return [x] + collatz(int(x*3+1))\n",
    "\n",
    "y=collatz(1)\n",
    "z=collatz(10)\n",
    "print(\"collatz(1)\")\n",
    "print(*y)"
   ]
  },
  {
   "cell_type": "code",
   "execution_count": 76,
   "id": "e3318898",
   "metadata": {},
   "outputs": [
    {
     "name": "stdout",
     "output_type": "stream",
     "text": [
      "\n",
      "collatz(10)\n",
      "10\n",
      "5\n",
      "16\n",
      "8\n",
      "4\n",
      "2\n",
      "1\n"
     ]
    }
   ],
   "source": [
    "print(\"\\ncollatz(10)\")\n",
    "print(*z, sep = \"\\n\")"
   ]
  },
  {
   "cell_type": "markdown",
   "id": "d4305766",
   "metadata": {},
   "source": [
    "### Question 5\n",
    "Write a recursive method binary() that takes a non-negative\n",
    "integer n and prints the binary representation of integer n.\n",
    "<br>\n",
    "<br>\n",
    " binary(0)\n",
    "<br>\n",
    "0\n",
    "<br>\n",
    " binary(1)\n",
    "<br>\n",
    "1\n",
    "<br>\n",
    " binary(3)\n",
    "<br>\n",
    "11\n",
    "<br>\n",
    " binary(9)\n",
    "<br>\n",
    "1001\n"
   ]
  },
  {
   "cell_type": "code",
   "execution_count": 61,
   "id": "f0a5b5ea",
   "metadata": {},
   "outputs": [],
   "source": [
    "def binary(i): \n",
    "    if i<0: \n",
    "        return (\"Enter postive integer\")\n",
    "    \n",
    "    elif i >=1: \n",
    "        return ((10*binary(int(i/2))) + (i%2))\n",
    "        \n",
    "    else: \n",
    "        return 0"
   ]
  },
  {
   "cell_type": "code",
   "execution_count": 62,
   "id": "9ad1c982",
   "metadata": {},
   "outputs": [
    {
     "data": {
      "text/plain": [
       "0"
      ]
     },
     "execution_count": 62,
     "metadata": {},
     "output_type": "execute_result"
    }
   ],
   "source": [
    "binary(0)\n"
   ]
  },
  {
   "cell_type": "code",
   "execution_count": 63,
   "id": "80e6cee4",
   "metadata": {},
   "outputs": [
    {
     "data": {
      "text/plain": [
       "1"
      ]
     },
     "execution_count": 63,
     "metadata": {},
     "output_type": "execute_result"
    }
   ],
   "source": [
    "binary(1)\n"
   ]
  },
  {
   "cell_type": "code",
   "execution_count": 64,
   "id": "c46083c9",
   "metadata": {},
   "outputs": [
    {
     "data": {
      "text/plain": [
       "11"
      ]
     },
     "execution_count": 64,
     "metadata": {},
     "output_type": "execute_result"
    }
   ],
   "source": [
    "binary(3)"
   ]
  },
  {
   "cell_type": "code",
   "execution_count": 65,
   "id": "31afc0d8",
   "metadata": {},
   "outputs": [
    {
     "data": {
      "text/plain": [
       "1001"
      ]
     },
     "execution_count": 65,
     "metadata": {},
     "output_type": "execute_result"
    }
   ],
   "source": [
    "binary(9)\n"
   ]
  },
  {
   "cell_type": "markdown",
   "id": "23bce32b",
   "metadata": {},
   "source": [
    "### Question 6\n",
    "Implement a class named HeadingParser that can be used to parse an HTML\n",
    "document, and retrieve and print all the headings in the document. You should\n",
    "implement your class as a subclass of HTMLParser, defined in Standard Library\n",
    "module html.parser. When fed a string containing HTML code, your class should\n",
    "print the headings, one per line and in the order in which they appear in the\n",
    "document.Each heading should be indented asfollows: an h1 heading should haveindentation 0, and h2 heading should have indentation 1, etc. Test your\n",
    "implementation using w3c.html.\n",
    "<br>\n",
    "infile = open('w3c.html')\n",
    "<br>\n",
    " content = infile.read()\n",
    "<br>\n",
    " infile.close()\n",
    "<br>\n",
    " hp = HeadingParser()\n",
    "<br>\n",
    " hp.feed(content)\n",
    "<br>\n",
    "W3C Mission\n",
    "<br>\n",
    "Principles\n"
   ]
  },
  {
   "cell_type": "code",
   "execution_count": 79,
   "id": "9bc7b063",
   "metadata": {},
   "outputs": [],
   "source": [
    "from html.parser import HTMLParser\n",
    "\n",
    "class HeadingParser(HTMLParser):\n",
    "    headers = [\"h1\", \"h2\",\"h3\",\"h4\",\"h5\",\"h6\"]\n",
    "    current = -1\n",
    "\n",
    "    def handle_starttag(self, tag, attrs):      \n",
    "        if tag in HeadingParser.headers:         \n",
    "            HeadingParser.current = HeadingParser.headers.index(tag)\n",
    "    \n",
    "    def handle_endtag(self, tag):                \n",
    "        if tag == HeadingParser.headers[HeadingParser.current]:          \n",
    "            HeadingParser.current = -1\n",
    "            \n",
    "    def handle_data(self, data):\n",
    "        if HeadingParser.current >= 0:\n",
    "            print(\" \" * HeadingParser.current + data)"
   ]
  },
  {
   "cell_type": "code",
   "execution_count": 80,
   "id": "5cdba42f",
   "metadata": {},
   "outputs": [
    {
     "name": "stdout",
     "output_type": "stream",
     "text": [
      "W3C Mission\n",
      " Principles\n"
     ]
    }
   ],
   "source": [
    "infile = open(\"w3c.html\",\"r\")\n",
    "content = infile.read()\n",
    "infile.close()\n",
    "hp = HeadingParser()\n",
    "hp.feed(content)"
   ]
  },
  {
   "cell_type": "markdown",
   "id": "88ee4a00",
   "metadata": {},
   "source": [
    "### Question 7\n",
    "Implement recursive function webdir() that takes as input: a URL (as a string) and\n",
    "non-negative integers depth and indent. Your function should visit every web\n",
    "page reachable from the starting URL web page in depth clicks or less, and print\n",
    "each web page's URL. As shown below, indentation, specified by indent, should\n",
    "be used to indicate the depth of a URL.\n",
    "<br>\n",
    "webdir('http://reed.cs.depaul.edu/lperkovic/csc242/test1.html'\n",
    ", 2, 0)\n",
    "\n",
    "<br>\n",
    "http://reed.cs.depaul.edu/lperkovic/csc242/test1.html\n",
    "<br>\n",
    "\n",
    "<br>\n",
    "http://reed.cs.depaul.edu/lperkovic/csc242/test2.html\n",
    "<br>\n",
    "http://reed.cs.depaul.edu/lperkovic/csc242/test4.html\n",
    "<br>\n",
    "http://reed.cs.depaul.edu/lperkovic/csc242/test3.html\n",
    "<br>\n",
    "http://reed.cs.depaul.edu/lperkovic/csc242/test4.html"
   ]
  },
  {
   "cell_type": "code",
   "execution_count": 69,
   "id": "f7108f01",
   "metadata": {},
   "outputs": [],
   "source": [
    "from urllib.request import urlopen\n",
    "from urllib.parse import urljoin\n",
    "from html.parser import HTMLParser\n",
    "\n",
    "class Collector(HTMLParser):\n",
    "\n",
    "  def __init__(self, url):\n",
    "      HTMLParser.__init__(self)\n",
    "      self.url = url\n",
    "      self.links = []\n",
    "\n",
    "\n",
    "  def handle_starttag(self, tag, attrs):\n",
    "      if tag == 'a':\n",
    "          for attr in attrs:          \n",
    "              if attr[0] == 'href': \n",
    "                  absolute = urljoin(self.url, attr[1])\n",
    "                  if absolute[:4] == 'http':\n",
    "                      self.links.append(absolute)\n",
    "\n",
    "  def getLinks(self):\n",
    "    return self.links\n",
    "\n",
    "\n",
    "allLinks = []\n",
    "    \n",
    "def webdir(url,depth,indent):\n",
    "        global allLinks   \n",
    "        print(indent*\" \" + url)\n",
    "        if depth == 0:\n",
    "            return \n",
    "        for i in allLinks: \n",
    "            webdir(i, depth-1, indent+1)"
   ]
  },
  {
   "cell_type": "code",
   "execution_count": 81,
   "id": "66de551b",
   "metadata": {},
   "outputs": [
    {
     "name": "stdout",
     "output_type": "stream",
     "text": [
      " http://reed.cs.depaul.edu/lperkovic/test1.html\n",
      " http://reed.cs.depaul.edu/lperkovic/test2.html\n",
      "  http://reed.cs.depaul.edu/lperkovic/test2.html\n"
     ]
    }
   ],
   "source": [
    "url = ' http://reed.cs.depaul.edu/lperkovic/test1.html'\n",
    "resource = urlopen(url)\n",
    "content = resource.read().decode()\n",
    "collector = Collector(url)\n",
    "collector.feed(content)\n",
    "allLinks = collector.getLinks()\n",
    "\n",
    "webdir(url,2,0)"
   ]
  },
  {
   "cell_type": "markdown",
   "id": "32f305c5",
   "metadata": {},
   "source": [
    "### Question 8\n",
    "Write SQL queries on the below database table that return:\n",
    "<br>\n",
    "a) All the temperature data.\n",
    "<br>\n",
    "\n",
    "<br>\n",
    "b) All the cities, but without repetition.\n",
    "<br>\n",
    "c) All the records for India.\n",
    "<br>\n",
    "d) All the Fall records.\n",
    "<br>\n",
    "e) The city, country, and season for which the average rainfall is between 200\n",
    "and 400 millimeters.\n",
    "<br>\n",
    "f) The city and country for which the average Fall temperature is above 20\n",
    "degrees, in increasing temperature order.\n",
    "<br>\n",
    "g) The total annual rainfall for Cairo.\n",
    "04\n",
    "<br>\n",
    "h) The total rainfall for each season."
   ]
  },
  {
   "cell_type": "code",
   "execution_count": 82,
   "id": "45c88bbe",
   "metadata": {},
   "outputs": [
    {
     "data": {
      "text/plain": [
       "<sqlite3.Cursor at 0x145258da2d0>"
      ]
     },
     "execution_count": 82,
     "metadata": {},
     "output_type": "execute_result"
    }
   ],
   "source": [
    "import sqlite3\n",
    "con = sqlite3.connect('city.db')\n",
    "cur = con.cursor()\n",
    "cur.execute(\"CREATE TABLE cityweather (City text, Country text, Season text,Temperature float,Rainfall float)\")"
   ]
  },
  {
   "cell_type": "code",
   "execution_count": 83,
   "id": "825ef1a3",
   "metadata": {},
   "outputs": [
    {
     "data": {
      "text/plain": [
       "<sqlite3.Cursor at 0x145258da2d0>"
      ]
     },
     "execution_count": 83,
     "metadata": {},
     "output_type": "execute_result"
    }
   ],
   "source": [
    "cur.execute(\"INSERT INTO cityweather VALUES ('Mumbai', 'India', 'Winter',24.8,5.9)\")\n",
    "cur.execute(\"INSERT INTO cityweather VALUES ('Mumbai', 'India', 'Spring',28.4,16.2)\")\n",
    "cur.execute(\"INSERT INTO cityweather VALUES ('Mumbai', 'India', 'Summer',27.9,1549.4 )\")\n",
    "cur.execute(\"INSERT INTO cityweather VALUES ('Mumbai', 'India', 'Fall',27.6,346.0)\")\n",
    "cur.execute(\"INSERT INTO cityweather VALUES ('London', 'United Kingdom', 'Winter',4.2,207.7 )\")\n",
    "cur.execute(\"INSERT INTO cityweather VALUES ('London', 'United Kingdom', 'Spring',8.3,169.6)\")\n",
    "cur.execute(\"INSERT INTO cityweather VALUES ('London', 'United Kingdom', 'Summer',15.7,157.0)\")\n",
    "cur.execute(\"INSERT INTO cityweather VALUES ('London', 'United Kingdom', 'Fall',10.4,218.5)\")\n",
    "cur.execute(\"INSERT INTO cityweather VALUES ('Cairo', 'Egypt', 'Winter',13.6,16.5)\")\n",
    "cur.execute(\"INSERT INTO cityweather VALUES ('Cairo', 'Egypt', 'Spring',20.7,6.5)\")\n",
    "cur.execute(\"INSERT INTO cityweather VALUES ('Cairo', 'Egypt', 'Summer',27.7,0.1)\")\n",
    "cur.execute(\"INSERT INTO cityweather VALUES ('Cairo', 'Egypt', 'Fall',22.2,4.5)\")"
   ]
  },
  {
   "cell_type": "markdown",
   "id": "b556adf0",
   "metadata": {},
   "source": [
    "### a) All the temperature data."
   ]
  },
  {
   "cell_type": "code",
   "execution_count": 84,
   "id": "5569e4fb",
   "metadata": {},
   "outputs": [
    {
     "name": "stdout",
     "output_type": "stream",
     "text": [
      "(24.8,)\n",
      "(28.4,)\n",
      "(27.9,)\n",
      "(27.6,)\n",
      "(4.2,)\n",
      "(8.3,)\n",
      "(15.7,)\n",
      "(10.4,)\n",
      "(13.6,)\n",
      "(20.7,)\n",
      "(27.7,)\n",
      "(22.2,)\n"
     ]
    }
   ],
   "source": [
    "cur.execute(\"Select Temperature from cityweather \")\n",
    "for i in cur:\n",
    "    print(i)"
   ]
  },
  {
   "cell_type": "markdown",
   "id": "133d5719",
   "metadata": {},
   "source": [
    "### b) All the cities, but without repetition."
   ]
  },
  {
   "cell_type": "code",
   "execution_count": 85,
   "id": "37c36d5f",
   "metadata": {},
   "outputs": [
    {
     "name": "stdout",
     "output_type": "stream",
     "text": [
      "('Mumbai',)\n",
      "('London',)\n",
      "('Cairo',)\n"
     ]
    }
   ],
   "source": [
    "cur.execute('SELECT DISTINCT City FROM cityweather')\n",
    "for i in cur:\n",
    "    print(i)"
   ]
  },
  {
   "cell_type": "markdown",
   "id": "43cad7d3",
   "metadata": {},
   "source": [
    "### c) All the records for India"
   ]
  },
  {
   "cell_type": "code",
   "execution_count": 86,
   "id": "0e80895b",
   "metadata": {},
   "outputs": [
    {
     "name": "stdout",
     "output_type": "stream",
     "text": [
      "('Mumbai', 'India', 'Winter', 24.8, 5.9)\n",
      "('Mumbai', 'India', 'Spring', 28.4, 16.2)\n",
      "('Mumbai', 'India', 'Summer', 27.9, 1549.4)\n",
      "('Mumbai', 'India', 'Fall', 27.6, 346.0)\n"
     ]
    }
   ],
   "source": [
    "cur.execute(\"SELECT * FROM cityweather WHERE Country='India'\")\n",
    "for i in cur:\n",
    "    print(i)"
   ]
  },
  {
   "cell_type": "markdown",
   "id": "c1c89a8c",
   "metadata": {},
   "source": [
    "### d) All the Fall records"
   ]
  },
  {
   "cell_type": "code",
   "execution_count": 87,
   "id": "69ba8c7d",
   "metadata": {},
   "outputs": [
    {
     "name": "stdout",
     "output_type": "stream",
     "text": [
      "('Mumbai', 'India', 'Fall', 27.6, 346.0)\n",
      "('London', 'United Kingdom', 'Fall', 10.4, 218.5)\n",
      "('Cairo', 'Egypt', 'Fall', 22.2, 4.5)\n"
     ]
    }
   ],
   "source": [
    "cur.execute(\"SELECT * FROM cityweather WHERE Season='Fall'\")\n",
    "for i in cur:\n",
    "    print(i)"
   ]
  },
  {
   "cell_type": "markdown",
   "id": "745f9300",
   "metadata": {},
   "source": [
    "### e) The city, country, and season for which the average rainfall is between 200 and 400 millimeters.\n"
   ]
  },
  {
   "cell_type": "code",
   "execution_count": 88,
   "id": "64794a64",
   "metadata": {},
   "outputs": [
    {
     "name": "stdout",
     "output_type": "stream",
     "text": [
      "('Mumbai', 'India', 'Fall')\n",
      "('London', 'United Kingdom', 'Winter')\n",
      "('London', 'United Kingdom', 'Fall')\n"
     ]
    }
   ],
   "source": [
    "cur.execute(\"SELECT City,country,Season FROM cityweather WHERE Rainfall BETWEEN 200 AND 400\")\n",
    "for i in cur:\n",
    "    print(i)"
   ]
  },
  {
   "cell_type": "markdown",
   "id": "bdfa18f9",
   "metadata": {},
   "source": [
    "### f) The city and country for which the average Fall temperature is above 20 degrees, in increasing temperature order."
   ]
  },
  {
   "cell_type": "code",
   "execution_count": 89,
   "id": "ca912723",
   "metadata": {},
   "outputs": [
    {
     "name": "stdout",
     "output_type": "stream",
     "text": [
      "('Cairo', 'Egypt', 22.2)\n",
      "('Mumbai', 'India', 27.6)\n"
     ]
    }
   ],
   "source": [
    "cur.execute(\"SELECT City,country,temperature FROM cityweather WHERE Season='Fall' AND temperature > 20 ORDER BY temperature ASC\")\n",
    "for i in cur:\n",
    "    print(i)"
   ]
  },
  {
   "cell_type": "markdown",
   "id": "4a3719fd",
   "metadata": {},
   "source": [
    "### g) The total annual rainfall for Cairo."
   ]
  },
  {
   "cell_type": "code",
   "execution_count": 90,
   "id": "0bd00a34",
   "metadata": {},
   "outputs": [
    {
     "name": "stdout",
     "output_type": "stream",
     "text": [
      "('Cairo', 27.6)\n"
     ]
    }
   ],
   "source": [
    "cur.execute(\"SELECT City,SUM(Rainfall) FROM cityweather WHERE City='Cairo'\")\n",
    "for i in cur:\n",
    "    print(i)"
   ]
  },
  {
   "cell_type": "markdown",
   "id": "6b7eb836",
   "metadata": {},
   "source": [
    "### h) The total rainfall for each season."
   ]
  },
  {
   "cell_type": "code",
   "execution_count": 91,
   "id": "1e3d9ec4",
   "metadata": {},
   "outputs": [
    {
     "name": "stdout",
     "output_type": "stream",
     "text": [
      "('Fall', 569.0)\n",
      "('Spring', 192.29999999999998)\n",
      "('Summer', 1706.5)\n",
      "('Winter', 230.1)\n"
     ]
    }
   ],
   "source": [
    "cur.execute(\"SELECT Season,SUM(Rainfall) FROM cityweather GROUP BY Season\")\n",
    "for i in cur:\n",
    "    print(i)"
   ]
  },
  {
   "cell_type": "markdown",
   "id": "722ec352",
   "metadata": {},
   "source": [
    "### Question 9\n",
    "Suppose list words is defined as follows:\n",
    "<br>words = ['The', 'quick', 'brown', 'fox', 'jumps', 'over',\n",
    "'the', 'lazy', 'dog']\n",
    "<br>Write list comprehension expressions that use list words and generate the following\n",
    "lists:\n",
    "\n"
   ]
  },
  {
   "cell_type": "code",
   "execution_count": 45,
   "id": "189bfc29",
   "metadata": {},
   "outputs": [],
   "source": [
    "words = ['The', 'quick', 'brown', 'fox', 'jumps', 'over','the', 'lazy', 'dog']"
   ]
  },
  {
   "cell_type": "markdown",
   "id": "6126a2b9",
   "metadata": {},
   "source": [
    "#### a) ['THE', 'QUICK', 'BROWN', 'FOX', 'JUMPS', 'OVER', 'THE','LAZY', 'DOG']"
   ]
  },
  {
   "cell_type": "code",
   "execution_count": 46,
   "id": "f74a01b4",
   "metadata": {},
   "outputs": [
    {
     "name": "stdout",
     "output_type": "stream",
     "text": [
      "['THE', 'QUICK', 'BROWN', 'FOX', 'JUMPS', 'OVER', 'THE', 'LAZY', 'DOG']\n"
     ]
    }
   ],
   "source": [
    "a = [i.upper() for i in words]\n",
    "print(a)"
   ]
  },
  {
   "cell_type": "markdown",
   "id": "7831760f",
   "metadata": {},
   "source": [
    "#### b) ['the', 'quick', 'brown', 'fox', 'jumps', 'over', 'the','lazy', 'dog']"
   ]
  },
  {
   "cell_type": "code",
   "execution_count": 48,
   "id": "51850072",
   "metadata": {},
   "outputs": [
    {
     "name": "stdout",
     "output_type": "stream",
     "text": [
      "['the', 'quick', 'brown', 'fox', 'jumps', 'over', 'the', 'lazy', 'dog']\n"
     ]
    }
   ],
   "source": [
    "b = [i.lower() for i in words]\n",
    "print(b)"
   ]
  },
  {
   "cell_type": "markdown",
   "id": "dba994d3",
   "metadata": {},
   "source": [
    "#### c) [3, 5, 5, 3, 5, 4, 3, 4, 3] (the list of lengths of words in list words)."
   ]
  },
  {
   "cell_type": "code",
   "execution_count": 49,
   "id": "c867b0d7",
   "metadata": {},
   "outputs": [
    {
     "name": "stdout",
     "output_type": "stream",
     "text": [
      "[3, 5, 5, 3, 5, 4, 3, 4, 3]\n"
     ]
    }
   ],
   "source": [
    "c = [len(i) for i in words]\n",
    "print(c)"
   ]
  },
  {
   "cell_type": "markdown",
   "id": "61ea321e",
   "metadata": {},
   "source": [
    "#### d) [['THE', 'the', 3], ['QUICK', 'quick', 5], ['BROWN','brown', 5], ['FOX', 'fox', 3], ['JUMPS', 'jumps', 5],['OVER', 'over', 4], ['THE', 'the', 3], ['LAZY', 'lazy',4], ['DOG', 'dog', 3]] \n",
    "(the list containing a list for every word of list words, where each list contains the word in uppercase and lowercase and the length of the word.)"
   ]
  },
  {
   "cell_type": "code",
   "execution_count": 50,
   "id": "d3a07ad1",
   "metadata": {},
   "outputs": [
    {
     "name": "stdout",
     "output_type": "stream",
     "text": [
      "[['THE', 'the', 3], ['QUICK', 'quick', 5], ['BROWN', 'brown', 5], ['FOX', 'fox', 3], ['JUMPS', 'jumps', 5], ['OVER', 'over', 4], ['THE', 'the', 3], ['LAZY', 'lazy', 4], ['DOG', 'dog', 3]]\n"
     ]
    }
   ],
   "source": [
    "d = [[i.upper(),i.lower(),len(i)] for i in words]\n",
    "print(d)"
   ]
  },
  {
   "cell_type": "markdown",
   "id": "44e72de1",
   "metadata": {},
   "source": [
    "#### e) ['The', 'quick', 'brown', 'fox', 'jumps', 'over', 'the', 'lazy', 'dog'] \n",
    "(the list of words in list words containing 4 or more\n",
    "characters.)"
   ]
  },
  {
   "cell_type": "code",
   "execution_count": 51,
   "id": "05b4d546",
   "metadata": {},
   "outputs": [
    {
     "name": "stdout",
     "output_type": "stream",
     "text": [
      "['quick', 'brown', 'jumps', 'over', 'lazy']\n"
     ]
    }
   ],
   "source": [
    "e = [i for i in words if len(i)>=4]\n",
    "print(e)"
   ]
  }
 ],
 "metadata": {
  "kernelspec": {
   "display_name": "Python 3 (ipykernel)",
   "language": "python",
   "name": "python3"
  },
  "language_info": {
   "codemirror_mode": {
    "name": "ipython",
    "version": 3
   },
   "file_extension": ".py",
   "mimetype": "text/x-python",
   "name": "python",
   "nbconvert_exporter": "python",
   "pygments_lexer": "ipython3",
   "version": "3.9.12"
  }
 },
 "nbformat": 4,
 "nbformat_minor": 5
}
